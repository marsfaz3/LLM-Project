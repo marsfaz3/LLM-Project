{
  "cells": [
    {
      "cell_type": "code",
      "execution_count": null,
      "metadata": {
        "id": "43zHT9h2FYQP"
      },
      "outputs": [],
      "source": [
        "from huggingface_hub import notebook_login\n",
        "import evaluate\n",
        "notebook_login()\n",
        "\n",
        "!pip install -q --upgrade datasets huggingface_hub fsspec\n",
        "!pip install -U transformers\n",
        "!pip install transformers datasets evaluate seqeval\n",
        "\n",
        "import transformers, datasets, torch, accelerate, evaluate\n",
        "\n",
        "from datasets import load_from_disk\n",
        "ds = load_from_disk(\"../datasets/20_newsgroups_ds\")\n",
        "ds\n",
        "\n",
        "from datasets import load_dataset\n",
        "from transformers import AutoTokenizer, AutoModelForSequenceClassification, TrainingArguments, Trainer\n",
        "import numpy as np\n",
        "import evaluate\n",
        "\n",
        "tokenizer = AutoTokenizer.from_pretrained(\"distilbert/distilbert-base-uncased\")\n",
        "\n",
        "def tokenize_function(examples):\n",
        "    return tokenizer(examples[\"text\"], padding=\"max_length\", truncation=True)\n",
        "\n",
        "tokenized_datasets = ds.map(tokenize_function, batched=True)\n",
        "\n",
        "small_train_dataset = tokenized_datasets[\"train\"].shuffle(seed=42).select(range(200))\n",
        "small_eval_dataset = tokenized_datasets[\"test\"].shuffle(seed=42).select(range(200))\n",
        "\n",
        "# Setup evaluation\n",
        "metric = evaluate.load(\"accuracy\")\n",
        "\n",
        "def compute_metrics(eval_pred):\n",
        "    logits, labels = eval_pred\n",
        "    predictions = np.argmax(logits, axis=-1)\n",
        "    return metric.compute(predictions=predictions, references=labels)\n",
        "\n",
        "# Load pretrained model and evaluate model after each epoch\n",
        "model = AutoModelForSequenceClassification.from_pretrained(\"distilbert-base-uncased\" , num_labels=20)\n",
        "\n",
        "from transformers import TrainingArguments, Trainer\n",
        "training_args = TrainingArguments(\n",
        "    output_dir='model',\n",
        "    learning_rate=2e-5,\n",
        "    per_device_train_batch_size=4,\n",
        "    per_device_eval_batch_size=2,\n",
        "    num_train_epochs=1,\n",
        "    push_to_hub=False\n",
        ")\n",
        "\n",
        "trainer = Trainer(\n",
        "    model=model,\n",
        "    args=training_args,\n",
        "    train_dataset=small_train_dataset,\n",
        "    eval_dataset=small_eval_dataset,\n",
        "    compute_metrics=compute_metrics,\n",
        ")\n",
        "\n",
        "trainer.train()\n",
        "\n",
        "eval_results = trainer.evaluate()\n",
        "print(eval_results)\n",
        "\n",
        "from huggingface_hub import notebook_login\n",
        "!huggingface-cli login --token TOKEN\n",
        "!huggingface-cli login -h\n",
        "!pip3 install git-lfs\n",
        "\n",
        "repo_name = \"lighthouse-NLP-assignment\"\n",
        "training_args = TrainingArguments(\n",
        "   output_dir=repo_name,\n",
        "   push_to_hub=True,\n",
        ")\n",
        "\n",
        "trainer.push_to_hub()"
      ]
    },
    {
      "cell_type": "code",
      "execution_count": null,
      "metadata": {
        "id": "bkYGxYR5GV4J"
      },
      "outputs": [],
      "source": [
        "# https://huggingface.co/mfaz3/model"
      ]
    }
  ],
  "metadata": {
    "colab": {
      "provenance": []
    },
    "kernelspec": {
      "display_name": "Python 3",
      "language": "python",
      "name": "python3"
    },
    "language_info": {
      "codemirror_mode": {
        "name": "ipython",
        "version": 3
      },
      "file_extension": ".py",
      "mimetype": "text/x-python",
      "name": "python",
      "nbconvert_exporter": "python",
      "pygments_lexer": "ipython3",
      "version": "3.12.8"
    },
    "orig_nbformat": 4
  },
  "nbformat": 4,
  "nbformat_minor": 0
}
